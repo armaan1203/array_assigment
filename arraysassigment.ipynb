{
 "cells": [
  {
   "cell_type": "code",
   "execution_count": 1,
   "id": "9faef3e6-793c-401e-82ef-dc5290ce1ce9",
   "metadata": {},
   "outputs": [
    {
     "name": "stdout",
     "output_type": "stream",
     "text": [
      "True\n"
     ]
    }
   ],
   "source": [
    "def check_duplicate(array):\n",
    "    sorted_lis=[]\n",
    "    for i in array:\n",
    "        if i not in sorted_lis:\n",
    "            return True\n",
    "        else:\n",
    "            return False\n",
    "        \n",
    "array=[1, 2, 4, 2, 5, 9]\n",
    "result=check_duplicate(array)\n",
    "print(result)"
   ]
  },
  {
   "cell_type": "code",
   "execution_count": 3,
   "id": "99e11ac2-fe08-4ae5-b4e2-0580d43b640f",
   "metadata": {},
   "outputs": [
    {
     "name": "stdout",
     "output_type": "stream",
     "text": [
      "[5, 6, 7, 1, 2, 3, 4]\n"
     ]
    }
   ],
   "source": [
    "def rotate_array(array,k):\n",
    "    return array[-k:]+array[:-k]\n",
    "\n",
    "array= [1, 2, 3, 4, 5, 6, 7]\n",
    "k=3\n",
    "result=rotate_array(array,k)\n",
    "print(result)"
   ]
  },
  {
   "cell_type": "code",
   "execution_count": 4,
   "id": "0a647802-a2aa-44c4-bf74-21064bd32fa1",
   "metadata": {},
   "outputs": [
    {
     "name": "stdout",
     "output_type": "stream",
     "text": [
      "[12, 9, 7, 5, 4, 2]\n"
     ]
    }
   ],
   "source": [
    "arr = [2, 4, 5, 7, 9, 12]\n",
    "print(arr[::-1])"
   ]
  },
  {
   "cell_type": "code",
   "execution_count": 5,
   "id": "304a8dfb-095a-47cc-ad75-40ff98e81e35",
   "metadata": {},
   "outputs": [
    {
     "name": "stdout",
     "output_type": "stream",
     "text": [
      "20\n"
     ]
    }
   ],
   "source": [
    "arr = [10, 5, 20, 8, 15]\n",
    "print(max(arr))"
   ]
  },
  {
   "cell_type": "code",
   "execution_count": 12,
   "id": "f67f0464-8d78-4daa-a510-19e9bace239c",
   "metadata": {},
   "outputs": [
    {
     "name": "stdout",
     "output_type": "stream",
     "text": [
      "[1, 1, 2, 2, 2, 3, 3, 4, 4, 4, 5, 5]\n"
     ]
    }
   ],
   "source": [
    "def sort_array(array):\n",
    "    for\n"
   ]
  },
  {
   "cell_type": "code",
   "execution_count": null,
   "id": "bb8fc27a-5836-44b4-9390-48bedc86e3b5",
   "metadata": {},
   "outputs": [],
   "source": []
  }
 ],
 "metadata": {
  "kernelspec": {
   "display_name": "Python 3 (ipykernel)",
   "language": "python",
   "name": "python3"
  },
  "language_info": {
   "codemirror_mode": {
    "name": "ipython",
    "version": 3
   },
   "file_extension": ".py",
   "mimetype": "text/x-python",
   "name": "python",
   "nbconvert_exporter": "python",
   "pygments_lexer": "ipython3",
   "version": "3.10.8"
  }
 },
 "nbformat": 4,
 "nbformat_minor": 5
}
